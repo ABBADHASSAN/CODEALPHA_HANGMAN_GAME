{
  "nbformat": 4,
  "nbformat_minor": 0,
  "metadata": {
    "colab": {
      "provenance": [],
      "authorship_tag": "ABX9TyO7gQzLt5dYJdrt8v45R2FQ",
      "include_colab_link": true
    },
    "kernelspec": {
      "name": "python3",
      "display_name": "Python 3"
    },
    "language_info": {
      "name": "python"
    }
  },
  "cells": [
    {
      "cell_type": "markdown",
      "metadata": {
        "id": "view-in-github",
        "colab_type": "text"
      },
      "source": [
        "<a href=\"https://colab.research.google.com/github/ABBADHASSAN/CODEALPHA_HANGMAN_GAME/blob/main/Untitled22.ipynb\" target=\"_parent\"><img src=\"https://colab.research.google.com/assets/colab-badge.svg\" alt=\"Open In Colab\"/></a>"
      ]
    },
    {
      "cell_type": "code",
      "execution_count": 3,
      "metadata": {
        "colab": {
          "base_uri": "https://localhost:8080/"
        },
        "id": "Lp9mNkxqrO7R",
        "outputId": "b222c919-9db6-4feb-d7b5-f70169afa705"
      },
      "outputs": [
        {
          "output_type": "stream",
          "name": "stderr",
          "text": [
            "[nltk_data] Downloading package words to /root/nltk_data...\n",
            "[nltk_data]   Package words is already up-to-date!\n"
          ]
        },
        {
          "output_type": "stream",
          "name": "stdout",
          "text": [
            "🎮 WELCOME TO HANGMAN 🎮\n",
            "Guess the 5-letter word!\n",
            "You have 6 incorrect attempts.\n",
            "\n",
            "Attempts left: 6\n",
            "Word: _ _ _ _ _\n",
            "Enter a letter: t\n",
            "Incorrect guess!\n",
            "\n",
            "Attempts left: 5\n",
            "Word: _ _ _ _ _\n",
            "Enter a letter: f\n",
            "Incorrect guess!\n",
            "\n",
            "Attempts left: 4\n",
            "Word: _ _ _ _ _\n",
            "Enter a letter: a\n",
            "Correct guess!\n",
            "\n",
            "Attempts left: 4\n",
            "Word: _ a _ _ _\n",
            "Enter a letter: p\n",
            "Incorrect guess!\n",
            "\n",
            "Attempts left: 3\n",
            "Word: _ a _ _ _\n",
            "Enter a letter: g\n",
            "Incorrect guess!\n",
            "\n",
            "Attempts left: 2\n",
            "Word: _ a _ _ _\n",
            "Enter a letter: r\n",
            "Correct guess!\n",
            "\n",
            "Attempts left: 2\n",
            "Word: r a _ _ _\n",
            "Enter a letter: l\n",
            "Incorrect guess!\n",
            "\n",
            "Attempts left: 1\n",
            "Word: r a _ _ _\n",
            "Enter a letter: n\n",
            "Correct guess!\n",
            "\n",
            "Attempts left: 1\n",
            "Word: r a _ _ n\n",
            "Enter a letter: m\n",
            "Incorrect guess!\n",
            "Game over! The word was: ravin\n"
          ]
        }
      ],
      "source": [
        "import random\n",
        "import nltk\n",
        "from nltk.corpus import words\n",
        "nltk.download ('words')\n",
        "\n",
        "words_list = [word.lower() for word in words.words() if word.isalpha() and len(word) == 5 ]\n",
        "guess = random.choice(words_list)\n",
        "\n",
        "correct_guess = set()\n",
        "max_attempts = 6\n",
        "attempts = max_attempts\n",
        "\n",
        "def display (word,guesses) :\n",
        "  return ' ' .join(letter if letter in guesses else '_' for letter in word)\n",
        "\n",
        "print(\"🎮 WELCOME TO HANGMAN 🎮\")\n",
        "print(\"Guess the 5-letter word!\")\n",
        "print(\"You have\", max_attempts, \"incorrect attempts.\")\n",
        "\n",
        "while attempts > 0 :\n",
        "  print(\"\\nAttempts left:\", attempts)\n",
        "  print(\"Word:\", display(guess, correct_guess))\n",
        "\n",
        "  alphabet = input(\"Enter a letter: \").lower()\n",
        "\n",
        "  if len(alphabet) != 1 or not alphabet.isalpha() :\n",
        "    print(\"Please enter a single letter.\")\n",
        "    continue\n",
        "\n",
        "  if alphabet in correct_guess :\n",
        "    print(\"You've already guessed that letter.\")\n",
        "    continue\n",
        "  if alphabet in guess :\n",
        "    print(\"Correct guess!\")\n",
        "    correct_guess.add(alphabet)\n",
        "    if set(guess) == correct_guess :\n",
        "      print(\"Congratulations! You've guessed the word:\", guess)\n",
        "      break\n",
        "  else :\n",
        "    print(\"Incorrect guess!\")\n",
        "    attempts -= 1\n",
        "\n",
        "if attempts == 0 :\n",
        "  print(\"Game over! The word was:\", guess)\n"
      ]
    }
  ]
}